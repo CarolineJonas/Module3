{
 "cells": [
  {
   "cell_type": "markdown",
   "metadata": {},
   "source": [
    "*** Module 3: Waves ***\n",
    "\n",
    "# Sods Shock tube, Richtmyer method #"
   ]
  },
  {
   "cell_type": "code",
   "execution_count": 91,
   "metadata": {
    "collapsed": true
   },
   "outputs": [],
   "source": [
    "import numpy\n",
    "from matplotlib import pyplot\n",
    "%matplotlib inline\n",
    "\n",
    "from matplotlib import rcParams\n",
    "rcParams['font.family']='serif'\n",
    "rcParams['font.size']=16\n",
    "\n",
    "import sympy\n",
    "from sympy import init_printing\n",
    "init_printing()\n",
    "from sympy.utilities.lambdify import lambdify"
   ]
  },
  {
   "cell_type": "code",
   "execution_count": 109,
   "metadata": {
    "collapsed": true
   },
   "outputs": [],
   "source": [
    "def vector_u(rho,u,p):\n",
    "    # there is a little problem because the name of the vector is the same as the name of the velocity variable \n",
    "    #we change it into vector_u but it is a bit cumbersome\n",
    "    v=numpy.zeros((3,len(rho)))\n",
    "    v=[rho,rho*u,rho*(p/(0.4*rho)+0.5*(u)**2)]\n",
    "    return v"
   ]
  },
  {
   "cell_type": "code",
   "execution_count": 112,
   "metadata": {
    "collapsed": false
   },
   "outputs": [],
   "source": [
    "def computef(uv):\n",
    "    # We define f as a function of u\n",
    "    f=numpy.zeros_like((uv))\n",
    "    f[0]=uv[1]\n",
    "    f[1]=uv[1]**2/uv[0]+0.4*(uv[2]-0.5*uv[1]**2/uv[0])\n",
    "    f[2]=(uv[1]/uv[0])*(uv[2]+0.4*(uv[2]-0.5*uv[1]**2/uv[0]))\n",
    "    return f"
   ]
  },
  {
   "cell_type": "code",
   "execution_count": 113,
   "metadata": {
    "collapsed": true
   },
   "outputs": [],
   "source": [
    "dx= 0.25 #meter\n",
    "dt=0.0002 #second\n",
    "nx=81 #so that we cover 20 km, from -10 to +10"
   ]
  },
  {
   "cell_type": "code",
   "execution_count": 114,
   "metadata": {
    "collapsed": true
   },
   "outputs": [],
   "source": [
    "x=numpy.linspace(-10,10,nx)"
   ]
  },
  {
   "cell_type": "code",
   "execution_count": 184,
   "metadata": {
    "collapsed": false
   },
   "outputs": [
    {
     "name": "stdout",
     "output_type": "stream",
     "text": [
      "[[   1.       1.       1.       1.       1.       1.       1.       1.\n",
      "     1.       1.       1.       1.       1.       1.       1.       1.\n",
      "     1.       1.       1.       1.       1.       1.       1.       1.\n",
      "     1.       1.       1.       1.       1.       1.       1.       1.\n",
      "     1.       1.       1.       1.       1.       1.       1.       1.\n",
      "     0.125    0.125    0.125    0.125    0.125    0.125    0.125    0.125\n",
      "     0.125    0.125    0.125    0.125    0.125    0.125    0.125    0.125\n",
      "     0.125    0.125    0.125    0.125    0.125    0.125    0.125    0.125\n",
      "     0.125    0.125    0.125    0.125    0.125    0.125    0.125    0.125\n",
      "     0.125    0.125    0.125    0.125    0.125    0.125    0.125    0.125\n",
      "     0.125]\n",
      " [   0.       0.       0.       0.       0.       0.       0.       0.\n",
      "     0.       0.       0.       0.       0.       0.       0.       0.\n",
      "     0.       0.       0.       0.       0.       0.       0.       0.\n",
      "     0.       0.       0.       0.       0.       0.       0.       0.\n",
      "     0.       0.       0.       0.       0.       0.       0.       0.\n",
      "     0.       0.       0.       0.       0.       0.       0.       0.\n",
      "     0.       0.       0.       0.       0.       0.       0.       0.\n",
      "     0.       0.       0.       0.       0.       0.       0.       0.\n",
      "     0.       0.       0.       0.       0.       0.       0.       0.\n",
      "     0.       0.       0.       0.       0.       0.       0.       0.\n",
      "     0.   ]\n",
      " [ 100.     100.     100.     100.     100.     100.     100.     100.\n",
      "   100.     100.     100.     100.     100.     100.     100.     100.\n",
      "   100.     100.     100.     100.     100.     100.     100.     100.\n",
      "   100.     100.     100.     100.     100.     100.     100.     100.\n",
      "   100.     100.     100.     100.     100.     100.     100.     100.\n",
      "    10.      10.      10.      10.      10.      10.      10.      10.\n",
      "    10.      10.      10.      10.      10.      10.      10.      10.\n",
      "    10.      10.      10.      10.      10.      10.      10.      10.\n",
      "    10.      10.      10.      10.      10.      10.      10.      10.\n",
      "    10.      10.      10.      10.      10.      10.      10.      10.\n",
      "    10.   ]]\n"
     ]
    }
   ],
   "source": [
    "IC=numpy.zeros((3,nx))\n",
    "IC[0,:40]=1.0 #kg/m³\n",
    "IC[0,40:]=0.125 #kg/m³\n",
    "IC[1,0:]=0.0 #m/s\n",
    "IC[2,:40]=100.0 #kN/m²\n",
    "IC[2,40:]=10.0 #kN/m²\n",
    "print(IC)"
   ]
  },
  {
   "cell_type": "code",
   "execution_count": 185,
   "metadata": {
    "collapsed": false
   },
   "outputs": [],
   "source": [
    "def predictor(v,f):\n",
    "    #fonction qui prend u au temps n et f au temps n et qui donne une liste u en n+1/2 avec les indices \n",
    "    #d'espace décalés de 1/2 vers la droite (i+1/2=i)\n",
    "    uu=numpy.zeros((3,81))\n",
    "    ff=numpy.zeros((3,81))\n",
    "    uu[:,:]=v.copy()\n",
    "    ff[:,:]=f.copy()\n",
    "    for i in range (0,2):\n",
    "        uui=uu[i]\n",
    "        vi=v[i]\n",
    "        fi=f[i]\n",
    "        uui[1:]=0.5*(vi[1:]+vi[:-1])-0.5*dt/dx*(fi[1:]-fi[:-1])\n",
    "        ff=computef(uu)\n",
    "    return ff"
   ]
  },
  {
   "cell_type": "code",
   "execution_count": 186,
   "metadata": {
    "collapsed": true
   },
   "outputs": [],
   "source": [
    "def Shock(v):\n",
    "    uu=numpy.zeros((3,81))\n",
    "    uu[:,:]=v.copy()\n",
    "    t=0\n",
    "    while t<50:\n",
    "        ff=computef(uu)\n",
    "        for i in range (0,2):\n",
    "            vi=v[i]\n",
    "            uui=uu[i]\n",
    "            predictori=predictor(uu,ff)[i]\n",
    "            vi[1:]=uui[:-1]-dt/dx*(predictori[1:]-predictori[:-1])\n",
    "            v[i]=vi\n",
    "        uu=v.copy()\n",
    "        t=t+1\n",
    "    return v"
   ]
  },
  {
   "cell_type": "code",
   "execution_count": 187,
   "metadata": {
    "collapsed": false
   },
   "outputs": [
    {
     "data": {
      "text/plain": [
       "[array([ 1.       ,  1.       ,  1.       ,  1.       ,  1.       ,\n",
       "         1.       ,  1.       ,  1.       ,  1.       ,  1.       ,\n",
       "         1.       ,  1.       ,  1.       ,  1.       ,  1.       ,\n",
       "         1.       ,  1.       ,  1.       ,  1.       ,  1.       ,\n",
       "         1.       ,  1.       ,  1.       ,  1.       ,  1.       ,\n",
       "         1.       ,  1.       ,  1.       ,  1.       ,  1.       ,\n",
       "         1.       ,  1.       ,  1.       ,  1.       ,  1.       ,\n",
       "         1.       ,  1.       ,  1.       ,  1.       ,  1.       ,\n",
       "         0.9999424,  0.9999424,  0.9999424,  0.9999424,  0.9999424,\n",
       "         0.9999424,  0.9999424,  0.9999424,  0.9999424,  0.9999424,\n",
       "         0.9999424,  0.9999424,  0.9999424,  0.9999424,  0.9999424,\n",
       "         0.9999424,  0.9999424,  0.9999424,  0.9999424,  0.9999424,\n",
       "         0.9999424,  0.9999424,  0.9999424,  0.9999424,  0.9999424,\n",
       "         0.9999424,  0.9999424,  0.9999424,  0.9999424,  0.9999424,\n",
       "         0.9999424,  0.9999424,  0.9999424,  0.9999424,  0.9999424,\n",
       "         0.9999424,  0.9999424,  0.9999424,  0.9999424,  0.9999424,\n",
       "         0.9999424]),\n",
       " array([ 0.        ,  0.        ,  0.        ,  0.        ,  0.        ,\n",
       "         0.        ,  0.        ,  0.        ,  0.        ,  0.        ,\n",
       "         0.        ,  0.        ,  0.        ,  0.        ,  0.        ,\n",
       "         0.        ,  0.        ,  0.        ,  0.        ,  0.        ,\n",
       "         0.        ,  0.        ,  0.        ,  0.        ,  0.        ,\n",
       "         0.        ,  0.        ,  0.        ,  0.        ,  0.        ,\n",
       "         0.        ,  0.        ,  0.        ,  0.        ,  0.        ,\n",
       "         0.        ,  0.        ,  0.        ,  0.        ,  0.        ,\n",
       "         0.07199668,  0.07199668,  0.07199668,  0.07199668,  0.07199668,\n",
       "         0.07199668,  0.07199668,  0.07199668,  0.07199668,  0.07199668,\n",
       "         0.07199668,  0.07199668,  0.07199668,  0.07199668,  0.07199668,\n",
       "         0.07199668,  0.07199668,  0.07199668,  0.07199668,  0.07199668,\n",
       "         0.07199668,  0.07199668,  0.07199668,  0.07199668,  0.07199668,\n",
       "         0.07199668,  0.07199668,  0.07199668,  0.07199668,  0.07199668,\n",
       "         0.07199668,  0.07199668,  0.07199668,  0.07199668,  0.07199668,\n",
       "         0.07199668,  0.07199668,  0.07199668,  0.07199668,  0.07199668,\n",
       "         0.07199668]),\n",
       " array([ 250.,  250.,  250.,  250.,  250.,  250.,  250.,  250.,  250.,\n",
       "         250.,  250.,  250.,  250.,  250.,  250.,  250.,  250.,  250.,\n",
       "         250.,  250.,  250.,  250.,  250.,  250.,  250.,  250.,  250.,\n",
       "         250.,  250.,  250.,  250.,  250.,  250.,  250.,  250.,  250.,\n",
       "         250.,  250.,  250.,  250.,   25.,   25.,   25.,   25.,   25.,\n",
       "          25.,   25.,   25.,   25.,   25.,   25.,   25.,   25.,   25.,\n",
       "          25.,   25.,   25.,   25.,   25.,   25.,   25.,   25.,   25.,\n",
       "          25.,   25.,   25.,   25.,   25.,   25.,   25.,   25.,   25.,\n",
       "          25.,   25.,   25.,   25.,   25.,   25.,   25.,   25.,   25.])]"
      ]
     },
     "execution_count": 187,
     "metadata": {},
     "output_type": "execute_result"
    }
   ],
   "source": [
    "v=vector_u(IC[0],IC[1],IC[2])\n",
    "f=computef(v)\n",
    "predictor(v,f)\n",
    "Shock(v)"
   ]
  },
  {
   "cell_type": "code",
   "execution_count": null,
   "metadata": {
    "collapsed": true
   },
   "outputs": [],
   "source": []
  },
  {
   "cell_type": "code",
   "execution_count": null,
   "metadata": {
    "collapsed": true
   },
   "outputs": [],
   "source": []
  }
 ],
 "metadata": {
  "anaconda-cloud": {},
  "kernelspec": {
   "display_name": "Python [conda root]",
   "language": "python",
   "name": "conda-root-py"
  },
  "language_info": {
   "codemirror_mode": {
    "name": "ipython",
    "version": 3
   },
   "file_extension": ".py",
   "mimetype": "text/x-python",
   "name": "python",
   "nbconvert_exporter": "python",
   "pygments_lexer": "ipython3",
   "version": "3.5.2"
  }
 },
 "nbformat": 4,
 "nbformat_minor": 1
}
