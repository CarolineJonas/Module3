{
 "cells": [
  {
   "cell_type": "markdown",
   "metadata": {},
   "source": [
    "*** Module 3: Waves ***\n",
    "\n",
    "# Sods Shock tube, Richtmyer method #"
   ]
  },
  {
   "cell_type": "code",
   "execution_count": 1,
   "metadata": {
    "collapsed": true
   },
   "outputs": [],
   "source": [
    "import numpy\n",
    "from matplotlib import pyplot\n",
    "%matplotlib inline\n",
    "\n",
    "from matplotlib import rcParams\n",
    "rcParams['font.family']='serif'\n",
    "rcParams['font.size']=16\n",
    "\n",
    "import sympy\n",
    "from sympy import init_printing\n",
    "init_printing()\n",
    "from sympy.utilities.lambdify import lambdify"
   ]
  },
  {
   "cell_type": "code",
   "execution_count": 7,
   "metadata": {
    "collapsed": true
   },
   "outputs": [],
   "source": [
    "def vector_u(rho,u,p):\n",
    "    # there is a little problem because the name of the vector is the same as the name of the velocity variable \n",
    "    #we change it into vector_u but it is a bit cumbersome\n",
    "    v=numpy.array(3,len(rho))\n",
    "    intermediate=numpy.array_like(v)\n",
    "    intermediate=[1,u,p/(0.4*rho)+0.5*(u)**2]\n",
    "    v[:1]=rho*intermediate[:1]\n",
    "    return v"
   ]
  },
  {
   "cell_type": "code",
   "execution_count": 8,
   "metadata": {
    "collapsed": false
   },
   "outputs": [],
   "source": [
    "def computef(uv):\n",
    "    # We define f as a function of u\n",
    "    f=numpy.array_like(uv)\n",
    "    f[0]=uv[1]\n",
    "    f[1]=uv[1]**2/uv[0]+0.4*(uv[2]-uv[1]**2/uv[0])\n",
    "    f[2]=(u[1]/u[0])*(u[2]+0.4*(u[2]-u[2]**2/u[0]))\n",
    "    return f"
   ]
  },
  {
   "cell_type": "code",
   "execution_count": 14,
   "metadata": {
    "collapsed": true
   },
   "outputs": [],
   "source": [
    "dx= 0.25 #meter\n",
    "dt=0.0002 #second\n",
    "nx=81 #so that we cover 20 km, from -10 to +10"
   ]
  },
  {
   "cell_type": "code",
   "execution_count": 15,
   "metadata": {
    "collapsed": true
   },
   "outputs": [],
   "source": [
    "x=numpy.linspace(-10,10,nx)"
   ]
  },
  {
   "cell_type": "code",
   "execution_count": 22,
   "metadata": {
    "collapsed": false
   },
   "outputs": [
    {
     "name": "stdout",
     "output_type": "stream",
     "text": [
      "[[   1.       1.       1.       1.       1.       1.       1.       1.\n",
      "     1.       1.       1.       1.       1.       1.       1.       1.\n",
      "     1.       1.       1.       1.       1.       1.       1.       1.\n",
      "     1.       1.       1.       1.       1.       1.       1.       1.\n",
      "     1.       1.       1.       1.       1.       1.       1.       1.\n",
      "     0.       0.125    0.125    0.125    0.125    0.125    0.125    0.125\n",
      "     0.125    0.125    0.125    0.125    0.125    0.125    0.125    0.125\n",
      "     0.125    0.125    0.125    0.125    0.125    0.125    0.125    0.125\n",
      "     0.125    0.125    0.125    0.125    0.125    0.125    0.125    0.125\n",
      "     0.125    0.125    0.125    0.125    0.125    0.125    0.125    0.125\n",
      "     0.125]\n",
      " [   0.       0.       0.       0.       0.       0.       0.       0.\n",
      "     0.       0.       0.       0.       0.       0.       0.       0.\n",
      "     0.       0.       0.       0.       0.       0.       0.       0.\n",
      "     0.       0.       0.       0.       0.       0.       0.       0.\n",
      "     0.       0.       0.       0.       0.       0.       0.       0.\n",
      "     0.       0.       0.       0.       0.       0.       0.       0.\n",
      "     0.       0.       0.       0.       0.       0.       0.       0.\n",
      "     0.       0.       0.       0.       0.       0.       0.       0.\n",
      "     0.       0.       0.       0.       0.       0.       0.       0.\n",
      "     0.       0.       0.       0.       0.       0.       0.       0.\n",
      "     0.   ]\n",
      " [ 100.     100.     100.     100.     100.     100.     100.     100.\n",
      "   100.     100.     100.     100.     100.     100.     100.     100.\n",
      "   100.     100.     100.     100.     100.     100.     100.     100.\n",
      "   100.     100.     100.     100.     100.     100.     100.     100.\n",
      "   100.     100.     100.     100.     100.     100.     100.     100.\n",
      "     0.      10.      10.      10.      10.      10.      10.      10.\n",
      "    10.      10.      10.      10.      10.      10.      10.      10.\n",
      "    10.      10.      10.      10.      10.      10.      10.      10.\n",
      "    10.      10.      10.      10.      10.      10.      10.      10.\n",
      "    10.      10.      10.      10.      10.      10.      10.      10.\n",
      "    10.   ]]\n"
     ]
    }
   ],
   "source": [
    "CL=numpy.zeros((3,nx))\n",
    "CL[0,:40]=1.0 #kg/m³\n",
    "CL[0,41:]=0.125 #kg/m³\n",
    "CL[1,:0]=0.0 #m/s\n",
    "CL[2,:40]=100.0 #kN/m²\n",
    "CL[2,41:]=10.0 #kN/m²\n",
    "print(CL)"
   ]
  },
  {
   "cell_type": "code",
   "execution_count": null,
   "metadata": {
    "collapsed": true
   },
   "outputs": [],
   "source": []
  }
 ],
 "metadata": {
  "anaconda-cloud": {},
  "kernelspec": {
   "display_name": "Python [conda root]",
   "language": "python",
   "name": "conda-root-py"
  },
  "language_info": {
   "codemirror_mode": {
    "name": "ipython",
    "version": 3
   },
   "file_extension": ".py",
   "mimetype": "text/x-python",
   "name": "python",
   "nbconvert_exporter": "python",
   "pygments_lexer": "ipython3",
   "version": "3.5.2"
  }
 },
 "nbformat": 4,
 "nbformat_minor": 1
}
